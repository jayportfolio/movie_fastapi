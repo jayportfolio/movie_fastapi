{
 "cells": [
  {
   "cell_type": "code",
   "execution_count": 2,
   "outputs": [],
   "source": [
    "name_basics = \"https://datasets.imdbws.com/name.basics.tsv.gz\"\n",
    "title_akas = \"https://datasets.imdbws.com/title.akas.tsv.gz\"\n",
    "title_basics = 'https://datasets.imdbws.com/title.basics.tsv.gz'\n",
    "title_crew = 'https://datasets.imdbws.com/title.crew.tsv.gz'\n",
    "title_episode = 'https://datasets.imdbws.com/title.episode.tsv.gz'\n",
    "title_principles = 'https://datasets.imdbws.com/title.principals.tsv.gz'\n",
    "title_ratings = 'https://datasets.imdbws.com/title.ratings.tsv.gz'"
   ],
   "metadata": {
    "collapsed": false,
    "pycharm": {
     "name": "#%%\n"
    }
   }
  },
  {
   "cell_type": "code",
   "execution_count": 3,
   "metadata": {
    "collapsed": true,
    "pycharm": {
     "name": "#%%\n"
    }
   },
   "outputs": [],
   "source": [
    "import pandas as pd\n",
    "\n",
    "def read_in(name, max_rows=10000):\n",
    "    #data_name_basics = pd.read_csv(name, error_bad_lines=False, nrows=10, sep='\\t')\n",
    "    if max_rows == 0:\n",
    "        dataframe = pd.read_csv(name, on_bad_lines='error', sep='\\t')\n",
    "    else:\n",
    "        dataframe = pd.read_csv(name, on_bad_lines='error', nrows=max_rows, sep='\\t')\n",
    "    return dataframe\n",
    "\n",
    "df_title_basics = read_in(title_basics, max_rows=100)\n",
    "df_title_ratings = read_in(title_ratings, max_rows=100)\n",
    "#df_name_basics = read_in(name_basics)\n",
    "#df_title_akas = read_in(title_akas)\n",
    "#df_title_crew = read_in(title_crew)\n",
    "#df_title_episode = read_in(title_episode)\n",
    "#df_title_principles = read_in(title_principles)"
   ]
  },
  {
   "cell_type": "code",
   "execution_count": 4,
   "outputs": [
    {
     "name": "stdout",
     "output_type": "stream",
     "text": [
      "100 100\n"
     ]
    },
    {
     "data": {
      "text/plain": "       tconst titleType                   primaryTitle  \\\n95  tt0000097     short   Place de l'Opéra, First View   \n96  tt0000098     short  Place de l'Opéra, Second View   \n97  tt0000099     short           Place de la Bastille   \n98  tt0000100     short           Place de la Concorde   \n99  tt0000101     short      Place du théâtre français   \n\n                   originalTitle  isAdult  startYear endYear runtimeMinutes  \\\n95  Place de l'Opéra, 1er aspect        0       1896      \\N             \\N   \n96   Place de l'Opéra, 2e aspect        0       1896      \\N             \\N   \n97          Place de la Bastille        0       1896      \\N             \\N   \n98          Place de la Concorde        0       1896      \\N             \\N   \n99     Place du théâtre français        0       1896      \\N             \\N   \n\n               genres  \n95  Documentary,Short  \n96  Documentary,Short  \n97  Documentary,Short  \n98  Documentary,Short  \n99  Documentary,Short  ",
      "text/html": "<div>\n<style scoped>\n    .dataframe tbody tr th:only-of-type {\n        vertical-align: middle;\n    }\n\n    .dataframe tbody tr th {\n        vertical-align: top;\n    }\n\n    .dataframe thead th {\n        text-align: right;\n    }\n</style>\n<table border=\"1\" class=\"dataframe\">\n  <thead>\n    <tr style=\"text-align: right;\">\n      <th></th>\n      <th>tconst</th>\n      <th>titleType</th>\n      <th>primaryTitle</th>\n      <th>originalTitle</th>\n      <th>isAdult</th>\n      <th>startYear</th>\n      <th>endYear</th>\n      <th>runtimeMinutes</th>\n      <th>genres</th>\n    </tr>\n  </thead>\n  <tbody>\n    <tr>\n      <th>95</th>\n      <td>tt0000097</td>\n      <td>short</td>\n      <td>Place de l'Opéra, First View</td>\n      <td>Place de l'Opéra, 1er aspect</td>\n      <td>0</td>\n      <td>1896</td>\n      <td>\\N</td>\n      <td>\\N</td>\n      <td>Documentary,Short</td>\n    </tr>\n    <tr>\n      <th>96</th>\n      <td>tt0000098</td>\n      <td>short</td>\n      <td>Place de l'Opéra, Second View</td>\n      <td>Place de l'Opéra, 2e aspect</td>\n      <td>0</td>\n      <td>1896</td>\n      <td>\\N</td>\n      <td>\\N</td>\n      <td>Documentary,Short</td>\n    </tr>\n    <tr>\n      <th>97</th>\n      <td>tt0000099</td>\n      <td>short</td>\n      <td>Place de la Bastille</td>\n      <td>Place de la Bastille</td>\n      <td>0</td>\n      <td>1896</td>\n      <td>\\N</td>\n      <td>\\N</td>\n      <td>Documentary,Short</td>\n    </tr>\n    <tr>\n      <th>98</th>\n      <td>tt0000100</td>\n      <td>short</td>\n      <td>Place de la Concorde</td>\n      <td>Place de la Concorde</td>\n      <td>0</td>\n      <td>1896</td>\n      <td>\\N</td>\n      <td>\\N</td>\n      <td>Documentary,Short</td>\n    </tr>\n    <tr>\n      <th>99</th>\n      <td>tt0000101</td>\n      <td>short</td>\n      <td>Place du théâtre français</td>\n      <td>Place du théâtre français</td>\n      <td>0</td>\n      <td>1896</td>\n      <td>\\N</td>\n      <td>\\N</td>\n      <td>Documentary,Short</td>\n    </tr>\n  </tbody>\n</table>\n</div>"
     },
     "execution_count": 4,
     "metadata": {},
     "output_type": "execute_result"
    }
   ],
   "source": [
    "print(len(df_title_basics), len(df_title_ratings))\n",
    "df_title_basics.tail()"
   ],
   "metadata": {
    "collapsed": false,
    "pycharm": {
     "name": "#%%\n"
    }
   }
  },
  {
   "cell_type": "code",
   "execution_count": 5,
   "outputs": [
    {
     "data": {
      "text/plain": "       tconst  averageRating  numVotes\n50  tt0000052            4.3        96\n51  tt0000053            2.7        18\n52  tt0000054            4.8        34\n53  tt0000055            3.6        30\n54  tt0000056            3.1        22\n55  tt0000057            4.8        34\n56  tt0000058            4.7        33\n57  tt0000059            3.5        27\n58  tt0000060            7.5        86\n59  tt0000061            4.5        24\n60  tt0000062            6.4       192\n61  tt0000063            3.4        28\n62  tt0000064            3.2        29\n63  tt0000065            3.4        29\n64  tt0000066            3.3        29\n65  tt0000067            5.7        62\n66  tt0000068            3.7        31\n67  tt0000069            4.9       438\n68  tt0000070            6.4      2564\n69  tt0000071            3.9        29\n70  tt0000072            3.6        27\n71  tt0000073            3.4        30\n72  tt0000074            4.5        31\n73  tt0000075            6.3      1850\n74  tt0000076            4.5       519\n75  tt0000077            4.4        35\n76  tt0000078            3.8        76\n77  tt0000079            4.7        35\n78  tt0000080            3.9        31\n79  tt0000081            4.0        32\n80  tt0000082            4.7        49\n81  tt0000083            4.5        32\n82  tt0000084            4.3        30\n83  tt0000085            4.5        33\n84  tt0000086            4.1        33\n85  tt0000087            4.5        37\n86  tt0000088            4.1        32\n87  tt0000089            6.2       970\n88  tt0000090            3.9        31\n89  tt0000091            6.7      3435\n90  tt0000092            4.4        29\n91  tt0000093            4.8        93\n92  tt0000094            4.8        32\n93  tt0000095            4.6        34\n94  tt0000096            4.2        29\n95  tt0000097            4.8        33\n96  tt0000098            4.9        36\n97  tt0000099            4.4        32\n98  tt0000100            4.7        53\n99  tt0000101            4.4        28",
      "text/html": "<div>\n<style scoped>\n    .dataframe tbody tr th:only-of-type {\n        vertical-align: middle;\n    }\n\n    .dataframe tbody tr th {\n        vertical-align: top;\n    }\n\n    .dataframe thead th {\n        text-align: right;\n    }\n</style>\n<table border=\"1\" class=\"dataframe\">\n  <thead>\n    <tr style=\"text-align: right;\">\n      <th></th>\n      <th>tconst</th>\n      <th>averageRating</th>\n      <th>numVotes</th>\n    </tr>\n  </thead>\n  <tbody>\n    <tr>\n      <th>50</th>\n      <td>tt0000052</td>\n      <td>4.3</td>\n      <td>96</td>\n    </tr>\n    <tr>\n      <th>51</th>\n      <td>tt0000053</td>\n      <td>2.7</td>\n      <td>18</td>\n    </tr>\n    <tr>\n      <th>52</th>\n      <td>tt0000054</td>\n      <td>4.8</td>\n      <td>34</td>\n    </tr>\n    <tr>\n      <th>53</th>\n      <td>tt0000055</td>\n      <td>3.6</td>\n      <td>30</td>\n    </tr>\n    <tr>\n      <th>54</th>\n      <td>tt0000056</td>\n      <td>3.1</td>\n      <td>22</td>\n    </tr>\n    <tr>\n      <th>55</th>\n      <td>tt0000057</td>\n      <td>4.8</td>\n      <td>34</td>\n    </tr>\n    <tr>\n      <th>56</th>\n      <td>tt0000058</td>\n      <td>4.7</td>\n      <td>33</td>\n    </tr>\n    <tr>\n      <th>57</th>\n      <td>tt0000059</td>\n      <td>3.5</td>\n      <td>27</td>\n    </tr>\n    <tr>\n      <th>58</th>\n      <td>tt0000060</td>\n      <td>7.5</td>\n      <td>86</td>\n    </tr>\n    <tr>\n      <th>59</th>\n      <td>tt0000061</td>\n      <td>4.5</td>\n      <td>24</td>\n    </tr>\n    <tr>\n      <th>60</th>\n      <td>tt0000062</td>\n      <td>6.4</td>\n      <td>192</td>\n    </tr>\n    <tr>\n      <th>61</th>\n      <td>tt0000063</td>\n      <td>3.4</td>\n      <td>28</td>\n    </tr>\n    <tr>\n      <th>62</th>\n      <td>tt0000064</td>\n      <td>3.2</td>\n      <td>29</td>\n    </tr>\n    <tr>\n      <th>63</th>\n      <td>tt0000065</td>\n      <td>3.4</td>\n      <td>29</td>\n    </tr>\n    <tr>\n      <th>64</th>\n      <td>tt0000066</td>\n      <td>3.3</td>\n      <td>29</td>\n    </tr>\n    <tr>\n      <th>65</th>\n      <td>tt0000067</td>\n      <td>5.7</td>\n      <td>62</td>\n    </tr>\n    <tr>\n      <th>66</th>\n      <td>tt0000068</td>\n      <td>3.7</td>\n      <td>31</td>\n    </tr>\n    <tr>\n      <th>67</th>\n      <td>tt0000069</td>\n      <td>4.9</td>\n      <td>438</td>\n    </tr>\n    <tr>\n      <th>68</th>\n      <td>tt0000070</td>\n      <td>6.4</td>\n      <td>2564</td>\n    </tr>\n    <tr>\n      <th>69</th>\n      <td>tt0000071</td>\n      <td>3.9</td>\n      <td>29</td>\n    </tr>\n    <tr>\n      <th>70</th>\n      <td>tt0000072</td>\n      <td>3.6</td>\n      <td>27</td>\n    </tr>\n    <tr>\n      <th>71</th>\n      <td>tt0000073</td>\n      <td>3.4</td>\n      <td>30</td>\n    </tr>\n    <tr>\n      <th>72</th>\n      <td>tt0000074</td>\n      <td>4.5</td>\n      <td>31</td>\n    </tr>\n    <tr>\n      <th>73</th>\n      <td>tt0000075</td>\n      <td>6.3</td>\n      <td>1850</td>\n    </tr>\n    <tr>\n      <th>74</th>\n      <td>tt0000076</td>\n      <td>4.5</td>\n      <td>519</td>\n    </tr>\n    <tr>\n      <th>75</th>\n      <td>tt0000077</td>\n      <td>4.4</td>\n      <td>35</td>\n    </tr>\n    <tr>\n      <th>76</th>\n      <td>tt0000078</td>\n      <td>3.8</td>\n      <td>76</td>\n    </tr>\n    <tr>\n      <th>77</th>\n      <td>tt0000079</td>\n      <td>4.7</td>\n      <td>35</td>\n    </tr>\n    <tr>\n      <th>78</th>\n      <td>tt0000080</td>\n      <td>3.9</td>\n      <td>31</td>\n    </tr>\n    <tr>\n      <th>79</th>\n      <td>tt0000081</td>\n      <td>4.0</td>\n      <td>32</td>\n    </tr>\n    <tr>\n      <th>80</th>\n      <td>tt0000082</td>\n      <td>4.7</td>\n      <td>49</td>\n    </tr>\n    <tr>\n      <th>81</th>\n      <td>tt0000083</td>\n      <td>4.5</td>\n      <td>32</td>\n    </tr>\n    <tr>\n      <th>82</th>\n      <td>tt0000084</td>\n      <td>4.3</td>\n      <td>30</td>\n    </tr>\n    <tr>\n      <th>83</th>\n      <td>tt0000085</td>\n      <td>4.5</td>\n      <td>33</td>\n    </tr>\n    <tr>\n      <th>84</th>\n      <td>tt0000086</td>\n      <td>4.1</td>\n      <td>33</td>\n    </tr>\n    <tr>\n      <th>85</th>\n      <td>tt0000087</td>\n      <td>4.5</td>\n      <td>37</td>\n    </tr>\n    <tr>\n      <th>86</th>\n      <td>tt0000088</td>\n      <td>4.1</td>\n      <td>32</td>\n    </tr>\n    <tr>\n      <th>87</th>\n      <td>tt0000089</td>\n      <td>6.2</td>\n      <td>970</td>\n    </tr>\n    <tr>\n      <th>88</th>\n      <td>tt0000090</td>\n      <td>3.9</td>\n      <td>31</td>\n    </tr>\n    <tr>\n      <th>89</th>\n      <td>tt0000091</td>\n      <td>6.7</td>\n      <td>3435</td>\n    </tr>\n    <tr>\n      <th>90</th>\n      <td>tt0000092</td>\n      <td>4.4</td>\n      <td>29</td>\n    </tr>\n    <tr>\n      <th>91</th>\n      <td>tt0000093</td>\n      <td>4.8</td>\n      <td>93</td>\n    </tr>\n    <tr>\n      <th>92</th>\n      <td>tt0000094</td>\n      <td>4.8</td>\n      <td>32</td>\n    </tr>\n    <tr>\n      <th>93</th>\n      <td>tt0000095</td>\n      <td>4.6</td>\n      <td>34</td>\n    </tr>\n    <tr>\n      <th>94</th>\n      <td>tt0000096</td>\n      <td>4.2</td>\n      <td>29</td>\n    </tr>\n    <tr>\n      <th>95</th>\n      <td>tt0000097</td>\n      <td>4.8</td>\n      <td>33</td>\n    </tr>\n    <tr>\n      <th>96</th>\n      <td>tt0000098</td>\n      <td>4.9</td>\n      <td>36</td>\n    </tr>\n    <tr>\n      <th>97</th>\n      <td>tt0000099</td>\n      <td>4.4</td>\n      <td>32</td>\n    </tr>\n    <tr>\n      <th>98</th>\n      <td>tt0000100</td>\n      <td>4.7</td>\n      <td>53</td>\n    </tr>\n    <tr>\n      <th>99</th>\n      <td>tt0000101</td>\n      <td>4.4</td>\n      <td>28</td>\n    </tr>\n  </tbody>\n</table>\n</div>"
     },
     "execution_count": 5,
     "metadata": {},
     "output_type": "execute_result"
    }
   ],
   "source": [
    "df_title_ratings.tail(50)"
   ],
   "metadata": {
    "collapsed": false,
    "pycharm": {
     "name": "#%%\n"
    }
   }
  },
  {
   "cell_type": "code",
   "execution_count": 6,
   "outputs": [],
   "source": [
    "if False:\n",
    "    print(df_name_basics.head())\n",
    "    print(df_title_akas.head())\n",
    "    print(df_title_crew.head())\n",
    "    print(df_title_episode.head())\n",
    "    print(df_title_principles.head())"
   ],
   "metadata": {
    "collapsed": false,
    "pycharm": {
     "name": "#%%\n"
    }
   }
  },
  {
   "cell_type": "code",
   "execution_count": 7,
   "outputs": [
    {
     "data": {
      "text/plain": "       tconst  averageRating  numVotes\n0   tt0000001            5.7      1905\n1   tt0000002            5.9       255\n2   tt0000003            6.5      1700\n3   tt0000004            5.7       167\n4   tt0000005            6.2      2520\n5   tt0000006            5.2       172\n6   tt0000007            5.4       784\n7   tt0000008            5.4      2045\n8   tt0000009            5.3       198\n9   tt0000010            6.9      6888\n10  tt0000011            5.3       353\n11  tt0000012            7.4     11799\n12  tt0000013            5.7      1822\n13  tt0000014            7.1      5293\n14  tt0000015            6.2      1018\n15  tt0000016            5.9      1428\n16  tt0000017            4.6       311\n17  tt0000018            5.3       571\n19  tt0000020            4.8       341\n20  tt0000022            5.1      1056\n21  tt0000023            5.7      1379\n24  tt0000026            5.7      1487\n25  tt0000027            5.6      1111\n26  tt0000028            5.1      1029\n27  tt0000029            5.9      3249\n28  tt0000030            5.2       817\n29  tt0000031            5.5       970\n30  tt0000032            5.0       405\n31  tt0000033            5.5       986\n32  tt0000034            5.0       190\n34  tt0000036            4.4       590\n36  tt0000038            4.2       196\n39  tt0000041            6.7      1758\n46  tt0000048            4.8       189\n60  tt0000062            6.4       192\n67  tt0000069            4.9       438\n68  tt0000070            6.4      2564\n73  tt0000075            6.3      1850\n74  tt0000076            4.5       519\n87  tt0000089            6.2       970\n89  tt0000091            6.7      3435",
      "text/html": "<div>\n<style scoped>\n    .dataframe tbody tr th:only-of-type {\n        vertical-align: middle;\n    }\n\n    .dataframe tbody tr th {\n        vertical-align: top;\n    }\n\n    .dataframe thead th {\n        text-align: right;\n    }\n</style>\n<table border=\"1\" class=\"dataframe\">\n  <thead>\n    <tr style=\"text-align: right;\">\n      <th></th>\n      <th>tconst</th>\n      <th>averageRating</th>\n      <th>numVotes</th>\n    </tr>\n  </thead>\n  <tbody>\n    <tr>\n      <th>0</th>\n      <td>tt0000001</td>\n      <td>5.7</td>\n      <td>1905</td>\n    </tr>\n    <tr>\n      <th>1</th>\n      <td>tt0000002</td>\n      <td>5.9</td>\n      <td>255</td>\n    </tr>\n    <tr>\n      <th>2</th>\n      <td>tt0000003</td>\n      <td>6.5</td>\n      <td>1700</td>\n    </tr>\n    <tr>\n      <th>3</th>\n      <td>tt0000004</td>\n      <td>5.7</td>\n      <td>167</td>\n    </tr>\n    <tr>\n      <th>4</th>\n      <td>tt0000005</td>\n      <td>6.2</td>\n      <td>2520</td>\n    </tr>\n    <tr>\n      <th>5</th>\n      <td>tt0000006</td>\n      <td>5.2</td>\n      <td>172</td>\n    </tr>\n    <tr>\n      <th>6</th>\n      <td>tt0000007</td>\n      <td>5.4</td>\n      <td>784</td>\n    </tr>\n    <tr>\n      <th>7</th>\n      <td>tt0000008</td>\n      <td>5.4</td>\n      <td>2045</td>\n    </tr>\n    <tr>\n      <th>8</th>\n      <td>tt0000009</td>\n      <td>5.3</td>\n      <td>198</td>\n    </tr>\n    <tr>\n      <th>9</th>\n      <td>tt0000010</td>\n      <td>6.9</td>\n      <td>6888</td>\n    </tr>\n    <tr>\n      <th>10</th>\n      <td>tt0000011</td>\n      <td>5.3</td>\n      <td>353</td>\n    </tr>\n    <tr>\n      <th>11</th>\n      <td>tt0000012</td>\n      <td>7.4</td>\n      <td>11799</td>\n    </tr>\n    <tr>\n      <th>12</th>\n      <td>tt0000013</td>\n      <td>5.7</td>\n      <td>1822</td>\n    </tr>\n    <tr>\n      <th>13</th>\n      <td>tt0000014</td>\n      <td>7.1</td>\n      <td>5293</td>\n    </tr>\n    <tr>\n      <th>14</th>\n      <td>tt0000015</td>\n      <td>6.2</td>\n      <td>1018</td>\n    </tr>\n    <tr>\n      <th>15</th>\n      <td>tt0000016</td>\n      <td>5.9</td>\n      <td>1428</td>\n    </tr>\n    <tr>\n      <th>16</th>\n      <td>tt0000017</td>\n      <td>4.6</td>\n      <td>311</td>\n    </tr>\n    <tr>\n      <th>17</th>\n      <td>tt0000018</td>\n      <td>5.3</td>\n      <td>571</td>\n    </tr>\n    <tr>\n      <th>19</th>\n      <td>tt0000020</td>\n      <td>4.8</td>\n      <td>341</td>\n    </tr>\n    <tr>\n      <th>20</th>\n      <td>tt0000022</td>\n      <td>5.1</td>\n      <td>1056</td>\n    </tr>\n    <tr>\n      <th>21</th>\n      <td>tt0000023</td>\n      <td>5.7</td>\n      <td>1379</td>\n    </tr>\n    <tr>\n      <th>24</th>\n      <td>tt0000026</td>\n      <td>5.7</td>\n      <td>1487</td>\n    </tr>\n    <tr>\n      <th>25</th>\n      <td>tt0000027</td>\n      <td>5.6</td>\n      <td>1111</td>\n    </tr>\n    <tr>\n      <th>26</th>\n      <td>tt0000028</td>\n      <td>5.1</td>\n      <td>1029</td>\n    </tr>\n    <tr>\n      <th>27</th>\n      <td>tt0000029</td>\n      <td>5.9</td>\n      <td>3249</td>\n    </tr>\n    <tr>\n      <th>28</th>\n      <td>tt0000030</td>\n      <td>5.2</td>\n      <td>817</td>\n    </tr>\n    <tr>\n      <th>29</th>\n      <td>tt0000031</td>\n      <td>5.5</td>\n      <td>970</td>\n    </tr>\n    <tr>\n      <th>30</th>\n      <td>tt0000032</td>\n      <td>5.0</td>\n      <td>405</td>\n    </tr>\n    <tr>\n      <th>31</th>\n      <td>tt0000033</td>\n      <td>5.5</td>\n      <td>986</td>\n    </tr>\n    <tr>\n      <th>32</th>\n      <td>tt0000034</td>\n      <td>5.0</td>\n      <td>190</td>\n    </tr>\n    <tr>\n      <th>34</th>\n      <td>tt0000036</td>\n      <td>4.4</td>\n      <td>590</td>\n    </tr>\n    <tr>\n      <th>36</th>\n      <td>tt0000038</td>\n      <td>4.2</td>\n      <td>196</td>\n    </tr>\n    <tr>\n      <th>39</th>\n      <td>tt0000041</td>\n      <td>6.7</td>\n      <td>1758</td>\n    </tr>\n    <tr>\n      <th>46</th>\n      <td>tt0000048</td>\n      <td>4.8</td>\n      <td>189</td>\n    </tr>\n    <tr>\n      <th>60</th>\n      <td>tt0000062</td>\n      <td>6.4</td>\n      <td>192</td>\n    </tr>\n    <tr>\n      <th>67</th>\n      <td>tt0000069</td>\n      <td>4.9</td>\n      <td>438</td>\n    </tr>\n    <tr>\n      <th>68</th>\n      <td>tt0000070</td>\n      <td>6.4</td>\n      <td>2564</td>\n    </tr>\n    <tr>\n      <th>73</th>\n      <td>tt0000075</td>\n      <td>6.3</td>\n      <td>1850</td>\n    </tr>\n    <tr>\n      <th>74</th>\n      <td>tt0000076</td>\n      <td>4.5</td>\n      <td>519</td>\n    </tr>\n    <tr>\n      <th>87</th>\n      <td>tt0000089</td>\n      <td>6.2</td>\n      <td>970</td>\n    </tr>\n    <tr>\n      <th>89</th>\n      <td>tt0000091</td>\n      <td>6.7</td>\n      <td>3435</td>\n    </tr>\n  </tbody>\n</table>\n</div>"
     },
     "execution_count": 7,
     "metadata": {},
     "output_type": "execute_result"
    }
   ],
   "source": [
    "df_ratings_rated = df_title_ratings[df_title_ratings[\"numVotes\"] > 100]\n",
    "df_ratings_rated.head(50)"
   ],
   "metadata": {
    "collapsed": false,
    "pycharm": {
     "name": "#%%\n"
    }
   }
  },
  {
   "cell_type": "code",
   "execution_count": 8,
   "outputs": [],
   "source": [
    "#print(len(df_title_basics))\n",
    "#df_title_basics.nunique()"
   ],
   "metadata": {
    "collapsed": false,
    "pycharm": {
     "name": "#%%\n"
    }
   }
  },
  {
   "cell_type": "code",
   "execution_count": 9,
   "outputs": [
    {
     "data": {
      "text/plain": "      tconst titleType            primaryTitle           originalTitle  \\\n0  tt0000001     short              Carmencita              Carmencita   \n1  tt0000002     short  Le clown et ses chiens  Le clown et ses chiens   \n2  tt0000003     short          Pauvre Pierrot          Pauvre Pierrot   \n3  tt0000004     short             Un bon bock             Un bon bock   \n4  tt0000005     short        Blacksmith Scene        Blacksmith Scene   \n\n   isAdult  startYear endYear runtimeMinutes                    genres  \\\n0        0       1894      \\N              1         Documentary,Short   \n1        0       1892      \\N              5           Animation,Short   \n2        0       1892      \\N              4  Animation,Comedy,Romance   \n3        0       1892      \\N             12           Animation,Short   \n4        0       1893      \\N              1              Comedy,Short   \n\n   averageRating  numVotes  \n0            5.7      1905  \n1            5.9       255  \n2            6.5      1700  \n3            5.7       167  \n4            6.2      2520  ",
      "text/html": "<div>\n<style scoped>\n    .dataframe tbody tr th:only-of-type {\n        vertical-align: middle;\n    }\n\n    .dataframe tbody tr th {\n        vertical-align: top;\n    }\n\n    .dataframe thead th {\n        text-align: right;\n    }\n</style>\n<table border=\"1\" class=\"dataframe\">\n  <thead>\n    <tr style=\"text-align: right;\">\n      <th></th>\n      <th>tconst</th>\n      <th>titleType</th>\n      <th>primaryTitle</th>\n      <th>originalTitle</th>\n      <th>isAdult</th>\n      <th>startYear</th>\n      <th>endYear</th>\n      <th>runtimeMinutes</th>\n      <th>genres</th>\n      <th>averageRating</th>\n      <th>numVotes</th>\n    </tr>\n  </thead>\n  <tbody>\n    <tr>\n      <th>0</th>\n      <td>tt0000001</td>\n      <td>short</td>\n      <td>Carmencita</td>\n      <td>Carmencita</td>\n      <td>0</td>\n      <td>1894</td>\n      <td>\\N</td>\n      <td>1</td>\n      <td>Documentary,Short</td>\n      <td>5.7</td>\n      <td>1905</td>\n    </tr>\n    <tr>\n      <th>1</th>\n      <td>tt0000002</td>\n      <td>short</td>\n      <td>Le clown et ses chiens</td>\n      <td>Le clown et ses chiens</td>\n      <td>0</td>\n      <td>1892</td>\n      <td>\\N</td>\n      <td>5</td>\n      <td>Animation,Short</td>\n      <td>5.9</td>\n      <td>255</td>\n    </tr>\n    <tr>\n      <th>2</th>\n      <td>tt0000003</td>\n      <td>short</td>\n      <td>Pauvre Pierrot</td>\n      <td>Pauvre Pierrot</td>\n      <td>0</td>\n      <td>1892</td>\n      <td>\\N</td>\n      <td>4</td>\n      <td>Animation,Comedy,Romance</td>\n      <td>6.5</td>\n      <td>1700</td>\n    </tr>\n    <tr>\n      <th>3</th>\n      <td>tt0000004</td>\n      <td>short</td>\n      <td>Un bon bock</td>\n      <td>Un bon bock</td>\n      <td>0</td>\n      <td>1892</td>\n      <td>\\N</td>\n      <td>12</td>\n      <td>Animation,Short</td>\n      <td>5.7</td>\n      <td>167</td>\n    </tr>\n    <tr>\n      <th>4</th>\n      <td>tt0000005</td>\n      <td>short</td>\n      <td>Blacksmith Scene</td>\n      <td>Blacksmith Scene</td>\n      <td>0</td>\n      <td>1893</td>\n      <td>\\N</td>\n      <td>1</td>\n      <td>Comedy,Short</td>\n      <td>6.2</td>\n      <td>2520</td>\n    </tr>\n  </tbody>\n</table>\n</div>"
     },
     "execution_count": 9,
     "metadata": {},
     "output_type": "execute_result"
    }
   ],
   "source": [
    "df_ratings_combined = df_title_basics.merge(df_ratings_rated, on='tconst')\n",
    "df_ratings_combined.head()"
   ],
   "metadata": {
    "collapsed": false,
    "pycharm": {
     "name": "#%%\n"
    }
   }
  },
  {
   "cell_type": "code",
   "execution_count": 10,
   "outputs": [
    {
     "data": {
      "text/plain": "67305"
     },
     "execution_count": 10,
     "metadata": {},
     "output_type": "execute_result"
    }
   ],
   "source": [
    "averageNumberOfVotes = df_title_ratings['numVotes'].sum()\n",
    "averageNumberOfVotes"
   ],
   "metadata": {
    "collapsed": false,
    "pycharm": {
     "name": "#%%\n"
    }
   }
  },
  {
   "cell_type": "code",
   "execution_count": 13,
   "outputs": [
    {
     "data": {
      "text/plain": "                                        originalTitle  numVotes  \\\n11                   L'arrivée d'un train à La Ciotat     11799   \n9                 La sortie de l'usine Lumière à Lyon      6888   \n13                                  L'arroseur arrosé      5293   \n40                                Le manoir du diable      3435   \n24                                      Repas de bébé      3249   \n36                                Démolition d'un mur      2564   \n4                                    Blacksmith Scene      2520   \n32                                  Bataille de neige      1758   \n37     Escamotage d'une dame au théâtre Robert Houdin      1850   \n2                                      Pauvre Pierrot      1700   \n7              Edison Kinetoscopic Record of a Sneeze      2045   \n0                                          Carmencita      1905   \n12  Le débarquement du congrès de photographie à Lyon      1822   \n21                                    Partie d'écarté      1487   \n15                             Barque sortant du port      1428   \n\n    averageRating   ranking  \n11            7.4  1.297268  \n9             6.9  0.706147  \n13            7.1  0.558358  \n40            6.7  0.341943  \n24            5.9  0.284809  \n36            6.4  0.243810  \n4             6.2  0.232137  \n32            6.7  0.175003  \n37            6.3  0.173167  \n2             6.5  0.164178  \n7             5.4  0.164074  \n0             5.7  0.161333  \n12            5.7  0.154304  \n21            5.7  0.125933  \n15            5.9  0.125179  ",
      "text/html": "<div>\n<style scoped>\n    .dataframe tbody tr th:only-of-type {\n        vertical-align: middle;\n    }\n\n    .dataframe tbody tr th {\n        vertical-align: top;\n    }\n\n    .dataframe thead th {\n        text-align: right;\n    }\n</style>\n<table border=\"1\" class=\"dataframe\">\n  <thead>\n    <tr style=\"text-align: right;\">\n      <th></th>\n      <th>originalTitle</th>\n      <th>numVotes</th>\n      <th>averageRating</th>\n      <th>ranking</th>\n    </tr>\n  </thead>\n  <tbody>\n    <tr>\n      <th>11</th>\n      <td>L'arrivée d'un train à La Ciotat</td>\n      <td>11799</td>\n      <td>7.4</td>\n      <td>1.297268</td>\n    </tr>\n    <tr>\n      <th>9</th>\n      <td>La sortie de l'usine Lumière à Lyon</td>\n      <td>6888</td>\n      <td>6.9</td>\n      <td>0.706147</td>\n    </tr>\n    <tr>\n      <th>13</th>\n      <td>L'arroseur arrosé</td>\n      <td>5293</td>\n      <td>7.1</td>\n      <td>0.558358</td>\n    </tr>\n    <tr>\n      <th>40</th>\n      <td>Le manoir du diable</td>\n      <td>3435</td>\n      <td>6.7</td>\n      <td>0.341943</td>\n    </tr>\n    <tr>\n      <th>24</th>\n      <td>Repas de bébé</td>\n      <td>3249</td>\n      <td>5.9</td>\n      <td>0.284809</td>\n    </tr>\n    <tr>\n      <th>36</th>\n      <td>Démolition d'un mur</td>\n      <td>2564</td>\n      <td>6.4</td>\n      <td>0.243810</td>\n    </tr>\n    <tr>\n      <th>4</th>\n      <td>Blacksmith Scene</td>\n      <td>2520</td>\n      <td>6.2</td>\n      <td>0.232137</td>\n    </tr>\n    <tr>\n      <th>32</th>\n      <td>Bataille de neige</td>\n      <td>1758</td>\n      <td>6.7</td>\n      <td>0.175003</td>\n    </tr>\n    <tr>\n      <th>37</th>\n      <td>Escamotage d'une dame au théâtre Robert Houdin</td>\n      <td>1850</td>\n      <td>6.3</td>\n      <td>0.173167</td>\n    </tr>\n    <tr>\n      <th>2</th>\n      <td>Pauvre Pierrot</td>\n      <td>1700</td>\n      <td>6.5</td>\n      <td>0.164178</td>\n    </tr>\n    <tr>\n      <th>7</th>\n      <td>Edison Kinetoscopic Record of a Sneeze</td>\n      <td>2045</td>\n      <td>5.4</td>\n      <td>0.164074</td>\n    </tr>\n    <tr>\n      <th>0</th>\n      <td>Carmencita</td>\n      <td>1905</td>\n      <td>5.7</td>\n      <td>0.161333</td>\n    </tr>\n    <tr>\n      <th>12</th>\n      <td>Le débarquement du congrès de photographie à Lyon</td>\n      <td>1822</td>\n      <td>5.7</td>\n      <td>0.154304</td>\n    </tr>\n    <tr>\n      <th>21</th>\n      <td>Partie d'écarté</td>\n      <td>1487</td>\n      <td>5.7</td>\n      <td>0.125933</td>\n    </tr>\n    <tr>\n      <th>15</th>\n      <td>Barque sortant du port</td>\n      <td>1428</td>\n      <td>5.9</td>\n      <td>0.125179</td>\n    </tr>\n  </tbody>\n</table>\n</div>"
     },
     "execution_count": 13,
     "metadata": {},
     "output_type": "execute_result"
    }
   ],
   "source": [
    "df_ratings_combined['ranking'] = df_ratings_combined['numVotes'] / averageNumberOfVotes * df_ratings_combined['averageRating']\n",
    "#(numVotes /averageNumberOfVotes) * averageRating\n",
    "df_ratings_combined = df_ratings_combined[['originalTitle','numVotes','averageRating','ranking']]\n",
    "top_15 = df_ratings_combined.sort_values('ranking', ascending=False)[:15]\n",
    "top_15"
   ],
   "metadata": {
    "collapsed": false,
    "pycharm": {
     "name": "#%%\n"
    }
   }
  },
  {
   "cell_type": "code",
   "execution_count": 16,
   "outputs": [
    {
     "data": {
      "text/plain": "array([\"L'arrivée d'un train à La Ciotat\",\n       \"La sortie de l'usine Lumière à Lyon\", \"L'arroseur arrosé\",\n       'Le manoir du diable', 'Repas de bébé', \"Démolition d'un mur\",\n       'Blacksmith Scene', 'Bataille de neige',\n       \"Escamotage d'une dame au théâtre Robert Houdin\", 'Pauvre Pierrot',\n       'Edison Kinetoscopic Record of a Sneeze', 'Carmencita',\n       'Le débarquement du congrès de photographie à Lyon',\n       \"Partie d'écarté\", 'Barque sortant du port'], dtype=object)"
     },
     "execution_count": 16,
     "metadata": {},
     "output_type": "execute_result"
    }
   ],
   "source": [
    "top_15['originalTitle'].to_numpy()"
   ],
   "metadata": {
    "collapsed": false,
    "pycharm": {
     "name": "#%%\n"
    }
   }
  }
 ],
 "metadata": {
  "kernelspec": {
   "display_name": "Python 3",
   "language": "python",
   "name": "python3"
  },
  "language_info": {
   "codemirror_mode": {
    "name": "ipython",
    "version": 2
   },
   "file_extension": ".py",
   "mimetype": "text/x-python",
   "name": "python",
   "nbconvert_exporter": "python",
   "pygments_lexer": "ipython2",
   "version": "2.7.6"
  }
 },
 "nbformat": 4,
 "nbformat_minor": 0
}